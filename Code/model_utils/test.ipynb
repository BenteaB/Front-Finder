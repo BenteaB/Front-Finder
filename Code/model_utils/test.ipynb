{
 "cells": [
  {
   "cell_type": "code",
   "execution_count": 4,
   "metadata": {},
   "outputs": [
    {
     "name": "stderr",
     "output_type": "stream",
     "text": [
      "2022-12-13 19:02:01.453447: I tensorflow/core/platform/cpu_feature_guard.cc:193] This TensorFlow binary is optimized with oneAPI Deep Neural Network Library (oneDNN) to use the following CPU instructions in performance-critical operations:  AVX2 AVX512F AVX512_VNNI FMA\n",
      "To enable them in other operations, rebuild TensorFlow with the appropriate compiler flags.\n",
      "2022-12-13 19:02:01.581933: I tensorflow/core/util/port.cc:104] oneDNN custom operations are on. You may see slightly different numerical results due to floating-point round-off errors from different computation orders. To turn them off, set the environment variable `TF_ENABLE_ONEDNN_OPTS=0`.\n",
      "2022-12-13 19:02:01.584635: W tensorflow/compiler/xla/stream_executor/platform/default/dso_loader.cc:64] Could not load dynamic library 'libcudart.so.11.0'; dlerror: libcudart.so.11.0: cannot open shared object file: No such file or directory\n",
      "2022-12-13 19:02:01.584644: I tensorflow/compiler/xla/stream_executor/cuda/cudart_stub.cc:29] Ignore above cudart dlerror if you do not have a GPU set up on your machine.\n",
      "2022-12-13 19:02:02.105620: W tensorflow/compiler/xla/stream_executor/platform/default/dso_loader.cc:64] Could not load dynamic library 'libnvinfer.so.7'; dlerror: libnvinfer.so.7: cannot open shared object file: No such file or directory\n",
      "2022-12-13 19:02:02.105667: W tensorflow/compiler/xla/stream_executor/platform/default/dso_loader.cc:64] Could not load dynamic library 'libnvinfer_plugin.so.7'; dlerror: libnvinfer_plugin.so.7: cannot open shared object file: No such file or directory\n",
      "2022-12-13 19:02:02.105673: W tensorflow/compiler/tf2tensorrt/utils/py_utils.cc:38] TF-TRT Warning: Cannot dlopen some TensorRT libraries. If you would like to use Nvidia GPU with TensorRT, please make sure the missing libraries mentioned above are installed properly.\n"
     ]
    }
   ],
   "source": [
    "import os\n",
    "from PIL import Image, ImageDraw as D\n",
    "import tensorflow as tf\n",
    "import numpy as np\n",
    "\n",
    "from tensorflow import keras\n",
    "from tensorflow.keras import layers\n",
    "from tensorflow.keras.models import Sequential\n",
    "from tensorflow.keras.preprocessing.image import ImageDataGenerator\n"
   ]
  },
  {
   "cell_type": "code",
   "execution_count": 5,
   "metadata": {},
   "outputs": [
    {
     "name": "stdout",
     "output_type": "stream",
     "text": [
      "4050\n"
     ]
    }
   ],
   "source": [
    "import os\n",
    "import random\n",
    "import shutil\n",
    "\n",
    "source = 'dataset_final_1/train/white'\n",
    "dest = 'dataset_final_1/train/white_to_move'\n",
    "files = os.listdir(source)\n",
    "no_of_files = 4050\n",
    "print(no_of_files)\n",
    "\n",
    "for file_name in random.sample(files, no_of_files):\n",
    "    shutil.move(os.path.join(source, file_name), dest)"
   ]
  },
  {
   "cell_type": "code",
   "execution_count": 7,
   "metadata": {},
   "outputs": [
    {
     "name": "stdout",
     "output_type": "stream",
     "text": [
      "aaaa.png\n",
      "front0_color.gif-filtered.png\n",
      "front12_color.gif-filtered.png\n",
      "front18_color.gif-filtered.png\n",
      "front19_color.gif-filtered.png\n",
      "front24_color.gif-filtered.png\n",
      "front25_color.gif-filtered.png\n",
      "front36_color.gif-filtered.png\n",
      "front48_color.gif-filtered.png\n",
      "front60_color.gif-filtered.png\n",
      "front72_color.gif-filtered.png\n",
      "front84_color.gif-filtered.png\n"
     ]
    }
   ],
   "source": [
    "\n",
    "x_size, y_size = (32, 32)\n",
    "for img_name in os.listdir(\"new_fronts/to_predict\"):\n",
    "    img = np.asarray(Image.open(os.path.join(\"new_fronts/to_predict\", img_name)).resize((800, 500)))\n",
    "    img = img.reshape((500, 800, 3))\n",
    "    print(img_name)\n",
    "    crops = [img[x:x+x_size, y:y+y_size] for x in range(0, img.shape[0], x_size) for y in range(0,img.shape[1], y_size)]\n",
    "    for i, crop in enumerate(crops):\n",
    "        cp = Image.fromarray(crop)\n",
    "        cp.save(\"crops/\" + img_name + str(i) + \".png\")"
   ]
  }
 ],
 "metadata": {
  "kernelspec": {
   "display_name": "Python 3",
   "language": "python",
   "name": "python3"
  },
  "language_info": {
   "codemirror_mode": {
    "name": "ipython",
    "version": 3
   },
   "file_extension": ".py",
   "mimetype": "text/x-python",
   "name": "python",
   "nbconvert_exporter": "python",
   "pygments_lexer": "ipython3",
   "version": "3.8.10"
  },
  "orig_nbformat": 4,
  "vscode": {
   "interpreter": {
    "hash": "916dbcbb3f70747c44a77c7bcd40155683ae19c65e1c03b4aa3499c5328201f1"
   }
  }
 },
 "nbformat": 4,
 "nbformat_minor": 2
}
