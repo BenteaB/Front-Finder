{
 "cells": [
  {
   "cell_type": "code",
   "execution_count": 6,
   "metadata": {
    "colab": {
     "base_uri": "https://localhost:8080/"
    },
    "id": "lGl8AA7w3KW7",
    "outputId": "6df5e1d6-1a28-4d9f-a1f6-8aee2f3b3ea8"
   },
   "outputs": [
    {
     "name": "stdout",
     "output_type": "stream",
     "text": [
      "Aici incepe codul.\n"
     ]
    }
   ],
   "source": [
    "print(\"Aici incepe codul.\")\n",
    "import os\n",
    "from PIL import Image, ImageDraw as D\n",
    "import tensorflow as tf\n",
    "import numpy as np\n",
    "\n",
    "from tensorflow import keras\n",
    "from tensorflow.keras import layers\n",
    "from tensorflow.keras.models import Sequential\n",
    "from tensorflow.keras.preprocessing.image import ImageDataGenerator\n",
    "\n",
    "from sklearn.model_selection import train_test_split"
   ]
  },
  {
   "cell_type": "code",
   "execution_count": 7,
   "metadata": {
    "id": "1kNgPJBf4K8d"
   },
   "outputs": [],
   "source": [
    "PATH_DATA = \"new_fronts/\"\n",
    "types = [\"cold\", \"occluded\", \"warm\", \"white\"]\n",
    "size = (32, 32)"
   ]
  },
  {
   "cell_type": "code",
   "execution_count": 3,
   "metadata": {
    "id": "winGnCQx4ped"
   },
   "outputs": [],
   "source": [
    "X = []\n",
    "y = []\n",
    "for type_of_front in types:\n",
    "  for root, _, files in os.walk(PATH_DATA + '/' + type_of_front):\n",
    "    for image_path in files:\n",
    "      X.append(np.resize(np.asarray(Image.open(os.path.join(root, image_path)).resize(size)), (*size, 3)))\n",
    "      y.append(np.array(types.index(type_of_front)))\n",
    "\n",
    "\n",
    "X = np.asarray(X)\n",
    "y = np.asarray(y)"
   ]
  },
  {
   "cell_type": "code",
   "execution_count": 4,
   "metadata": {
    "colab": {
     "base_uri": "https://localhost:8080/"
    },
    "id": "Dxc0qV2K8xuZ",
    "outputId": "4d959bc8-3510-4d60-e0d1-a42269b7a7dc"
   },
   "outputs": [
    {
     "name": "stdout",
     "output_type": "stream",
     "text": [
      "cold 131\n",
      "warm 162\n"
     ]
    }
   ],
   "source": [
    "print(types[0], list(y).count(0))\n",
    "print(types[1], list(y).count(1))\n",
    "# print(types[2], list(y).count(2))\n",
    "# print(types[3], list(y).count(3))"
   ]
  },
  {
   "cell_type": "code",
   "execution_count": 8,
   "metadata": {
    "id": "sZ-GQ42M9wLh"
   },
   "outputs": [],
   "source": [
    "# model = Sequential([\n",
    "#   layers.Rescaling(1./255, input_shape=(*size, 3)),\n",
    "#   layers.Conv2D(16, 3, padding='same', activation='relu'),\n",
    "#   layers.MaxPooling2D(),\n",
    "#   layers.Conv2D(32, 3, padding='same', activation='relu'),\n",
    "#   layers.MaxPooling2D(),\n",
    "#   layers.Conv2D(64, 3, padding='same', activation='relu'),\n",
    "#   layers.MaxPooling2D(),\n",
    "#   layers.Flatten(),\n",
    "#   layers.Dense(256, activation='relu'),\n",
    "#   layers.Dense(128, activation='relu'),\n",
    "#   layers.Dense(64, activation='relu'),\n",
    "#   layers.Dense(len(types))\n",
    "# ])\n",
    "from tensorflow.keras.applications import vgg16\n",
    "# Init the VGG model \n",
    "vgg_conv = vgg16.VGG16(weights='imagenet', include_top=False, input_shape=(*size, 3))"
   ]
  },
  {
   "cell_type": "code",
   "execution_count": 9,
   "metadata": {},
   "outputs": [
    {
     "name": "stdout",
     "output_type": "stream",
     "text": [
      "<keras.engine.input_layer.InputLayer object at 0x7f8a6cb44190> False\n",
      "<keras.layers.convolutional.conv2d.Conv2D object at 0x7f8a6c1b5f40> False\n",
      "<keras.layers.convolutional.conv2d.Conv2D object at 0x7f8a6c1b5eb0> False\n",
      "<keras.layers.pooling.max_pooling2d.MaxPooling2D object at 0x7f8a6c146580> False\n",
      "<keras.layers.convolutional.conv2d.Conv2D object at 0x7f8a6c145d30> False\n",
      "<keras.layers.convolutional.conv2d.Conv2D object at 0x7f8a6c145c10> False\n",
      "<keras.layers.pooling.max_pooling2d.MaxPooling2D object at 0x7f8a6c14c1f0> False\n",
      "<keras.layers.convolutional.conv2d.Conv2D object at 0x7f8a6c14f790> False\n",
      "<keras.layers.convolutional.conv2d.Conv2D object at 0x7f8a6c14ff10> False\n",
      "<keras.layers.convolutional.conv2d.Conv2D object at 0x7f8a6c14fdf0> False\n",
      "<keras.layers.pooling.max_pooling2d.MaxPooling2D object at 0x7f8a6c189d90> False\n",
      "<keras.layers.convolutional.conv2d.Conv2D object at 0x7f8a6c1d3280> False\n",
      "<keras.layers.convolutional.conv2d.Conv2D object at 0x7f8b28058100> False\n",
      "<keras.layers.convolutional.conv2d.Conv2D object at 0x7f8a6c146970> False\n",
      "<keras.layers.pooling.max_pooling2d.MaxPooling2D object at 0x7f8a6c15aaf0> False\n",
      "<keras.layers.convolutional.conv2d.Conv2D object at 0x7f8a6c235910> False\n",
      "<keras.layers.convolutional.conv2d.Conv2D object at 0x7f8a6c191040> False\n",
      "<keras.layers.convolutional.conv2d.Conv2D object at 0x7f8a6c15cb50> False\n",
      "<keras.layers.pooling.max_pooling2d.MaxPooling2D object at 0x7f8a6c235ee0> False\n"
     ]
    }
   ],
   "source": [
    "# Freeze all the layers\n",
    "for layer in vgg_conv.layers[:]:\n",
    "    layer.trainable = False\n",
    "# Check the trainable status of the individual layers\n",
    "for layer in vgg_conv.layers:\n",
    "    print(layer, layer.trainable)"
   ]
  },
  {
   "cell_type": "code",
   "execution_count": 10,
   "metadata": {},
   "outputs": [
    {
     "name": "stdout",
     "output_type": "stream",
     "text": [
      "Found 805 images belonging to 4 classes.\n",
      "Found 160 images belonging to 4 classes.\n",
      "4\n"
     ]
    }
   ],
   "source": [
    "train_datagen = ImageDataGenerator(rescale=1./255)\n",
    "validation_datagen = ImageDataGenerator(rescale=1./255)\n",
    "\n",
    "# Change the batchsize according to your system RAM\n",
    "train_dir = 'dataset_final_1/train'\n",
    "test_dir = 'dataset_final_1/test'\n",
    "# Data generator for training data\n",
    "train_generator = train_datagen.flow_from_directory(\n",
    "    train_dir,\n",
    "    target_size=size,\n",
    "    batch_size = 11,\n",
    "    class_mode='categorical')\n",
    "\n",
    "# Data generator for validation data\n",
    "validation_generator = validation_datagen.flow_from_directory(\n",
    "    test_dir,\n",
    "    target_size=size,\n",
    "    batch_size = 11,\n",
    "    class_mode='categorical',\n",
    "    shuffle=False)\n",
    "\n",
    "print(train_generator.num_classes)"
   ]
  },
  {
   "cell_type": "code",
   "execution_count": 17,
   "metadata": {},
   "outputs": [],
   "source": [
    "model = Sequential()\n",
    "\n",
    "# Add the vgg convolutional base model\n",
    "model.add(vgg_conv)\n",
    "\n",
    "# Add new layers\n",
    "model.add(layers.Flatten())\n",
    "model.add(layers.Dense(1024, activation='relu'))\n",
    "model.add(layers.Dropout(0.5))\n",
    "model.add(layers.Dense(512, activation='relu'))\n",
    "model.add(layers.Dropout(0.5))\n",
    "model.add(layers.Dense(train_generator.num_classes, activation='softmax'))"
   ]
  },
  {
   "cell_type": "code",
   "execution_count": 9,
   "metadata": {
    "id": "sCXLLXsw-pcS"
   },
   "outputs": [],
   "source": [
    "# X_train, X_test, y_train, y_test = train_test_split(X, y, test_size=0.33, random_state=42, shuffle=True)"
   ]
  },
  {
   "cell_type": "code",
   "execution_count": 18,
   "metadata": {
    "id": "3xXYmHGVADBb"
   },
   "outputs": [],
   "source": [
    "# model.compile(optimizer='adam',\n",
    "#               loss=tf.keras.losses.SparseCategoricalCrossentropy(from_logits=True),\n",
    "#               metrics=['accuracy']\n",
    "#               )\n",
    "from keras import optimizers\n",
    "model.compile(  loss='categorical_crossentropy',\n",
    "                optimizer=optimizers.RMSprop(lr=1e-4),\n",
    "                metrics=['accuracy'])"
   ]
  },
  {
   "cell_type": "code",
   "execution_count": null,
   "metadata": {},
   "outputs": [],
   "source": []
  },
  {
   "cell_type": "code",
   "execution_count": 19,
   "metadata": {
    "colab": {
     "base_uri": "https://localhost:8080/"
    },
    "id": "sYQuhUYzAM9M",
    "outputId": "0a34fd9a-a249-4415-bc3b-9e1ed798f90e"
   },
   "outputs": [
    {
     "name": "stdout",
     "output_type": "stream",
     "text": [
      "Model: \"sequential_1\"\n",
      "_________________________________________________________________\n",
      " Layer (type)                Output Shape              Param #   \n",
      "=================================================================\n",
      " vgg16 (Functional)          (None, 1, 1, 512)         14714688  \n",
      "                                                                 \n",
      " flatten_1 (Flatten)         (None, 512)               0         \n",
      "                                                                 \n",
      " dense_3 (Dense)             (None, 1024)              525312    \n",
      "                                                                 \n",
      " dropout_2 (Dropout)         (None, 1024)              0         \n",
      "                                                                 \n",
      " dense_4 (Dense)             (None, 512)               524800    \n",
      "                                                                 \n",
      " dropout_3 (Dropout)         (None, 512)               0         \n",
      "                                                                 \n",
      " dense_5 (Dense)             (None, 4)                 2052      \n",
      "                                                                 \n",
      "=================================================================\n",
      "Total params: 15,766,852\n",
      "Trainable params: 1,052,164\n",
      "Non-trainable params: 14,714,688\n",
      "_________________________________________________________________\n"
     ]
    }
   ],
   "source": [
    "model.summary()"
   ]
  },
  {
   "cell_type": "code",
   "execution_count": 20,
   "metadata": {
    "colab": {
     "base_uri": "https://localhost:8080/"
    },
    "id": "Jpd2M9M-APwL",
    "outputId": "a16a3aab-e8f8-4062-be61-7f968e9179e2"
   },
   "outputs": [
    {
     "name": "stdout",
     "output_type": "stream",
     "text": [
      "Epoch 1/32\n",
      "74/74 [==============================] - 3s 31ms/step - loss: 1.2559 - accuracy: 0.4273 - val_loss: 1.0362 - val_accuracy: 0.5250\n",
      "Epoch 2/32\n",
      "74/74 [==============================] - 2s 29ms/step - loss: 1.0397 - accuracy: 0.5304 - val_loss: 0.8696 - val_accuracy: 0.5813\n",
      "Epoch 3/32\n",
      "74/74 [==============================] - 2s 30ms/step - loss: 0.9494 - accuracy: 0.5553 - val_loss: 0.8289 - val_accuracy: 0.6250\n",
      "Epoch 4/32\n",
      "74/74 [==============================] - 2s 29ms/step - loss: 0.8642 - accuracy: 0.6149 - val_loss: 0.8609 - val_accuracy: 0.5938\n",
      "Epoch 5/32\n",
      "74/74 [==============================] - 2s 29ms/step - loss: 0.8220 - accuracy: 0.6323 - val_loss: 0.8004 - val_accuracy: 0.6125\n",
      "Epoch 6/32\n",
      "74/74 [==============================] - 2s 29ms/step - loss: 0.8055 - accuracy: 0.6522 - val_loss: 0.7732 - val_accuracy: 0.6375\n",
      "Epoch 7/32\n",
      "74/74 [==============================] - 2s 29ms/step - loss: 0.7659 - accuracy: 0.6783 - val_loss: 0.8010 - val_accuracy: 0.6062\n",
      "Epoch 8/32\n",
      "74/74 [==============================] - 2s 29ms/step - loss: 0.7456 - accuracy: 0.6932 - val_loss: 0.7793 - val_accuracy: 0.6187\n",
      "Epoch 9/32\n",
      "74/74 [==============================] - 2s 29ms/step - loss: 0.7208 - accuracy: 0.6981 - val_loss: 0.7439 - val_accuracy: 0.6250\n",
      "Epoch 10/32\n",
      "74/74 [==============================] - 2s 29ms/step - loss: 0.7168 - accuracy: 0.7118 - val_loss: 0.7254 - val_accuracy: 0.7000\n",
      "Epoch 11/32\n",
      "74/74 [==============================] - 2s 29ms/step - loss: 0.6957 - accuracy: 0.7056 - val_loss: 0.7403 - val_accuracy: 0.6438\n",
      "Epoch 12/32\n",
      "74/74 [==============================] - 2s 29ms/step - loss: 0.6534 - accuracy: 0.7230 - val_loss: 0.7355 - val_accuracy: 0.6562\n",
      "Epoch 13/32\n",
      "74/74 [==============================] - 2s 29ms/step - loss: 0.6410 - accuracy: 0.7416 - val_loss: 0.7424 - val_accuracy: 0.6750\n",
      "Epoch 14/32\n",
      "74/74 [==============================] - 2s 29ms/step - loss: 0.6473 - accuracy: 0.7242 - val_loss: 0.7811 - val_accuracy: 0.6313\n",
      "Epoch 15/32\n",
      "74/74 [==============================] - 2s 29ms/step - loss: 0.6137 - accuracy: 0.7652 - val_loss: 0.7311 - val_accuracy: 0.7063\n",
      "Epoch 16/32\n",
      "74/74 [==============================] - 2s 29ms/step - loss: 0.5799 - accuracy: 0.7652 - val_loss: 0.7227 - val_accuracy: 0.7250\n",
      "Epoch 17/32\n",
      "74/74 [==============================] - 2s 29ms/step - loss: 0.5966 - accuracy: 0.7565 - val_loss: 0.7378 - val_accuracy: 0.7125\n",
      "Epoch 18/32\n",
      "74/74 [==============================] - 2s 29ms/step - loss: 0.5795 - accuracy: 0.7615 - val_loss: 0.7120 - val_accuracy: 0.7312\n",
      "Epoch 19/32\n",
      "74/74 [==============================] - 2s 29ms/step - loss: 0.5799 - accuracy: 0.7714 - val_loss: 0.7699 - val_accuracy: 0.6750\n",
      "Epoch 20/32\n",
      "74/74 [==============================] - 2s 29ms/step - loss: 0.5429 - accuracy: 0.7851 - val_loss: 0.7081 - val_accuracy: 0.7063\n",
      "Epoch 21/32\n",
      "74/74 [==============================] - 2s 29ms/step - loss: 0.5517 - accuracy: 0.7689 - val_loss: 0.7060 - val_accuracy: 0.7312\n",
      "Epoch 22/32\n",
      "74/74 [==============================] - 2s 30ms/step - loss: 0.5183 - accuracy: 0.8000 - val_loss: 0.7041 - val_accuracy: 0.7250\n",
      "Epoch 23/32\n",
      "74/74 [==============================] - 2s 29ms/step - loss: 0.5206 - accuracy: 0.7888 - val_loss: 0.6828 - val_accuracy: 0.7500\n",
      "Epoch 24/32\n",
      "74/74 [==============================] - 2s 29ms/step - loss: 0.5385 - accuracy: 0.7826 - val_loss: 0.7327 - val_accuracy: 0.7000\n",
      "Epoch 25/32\n",
      "74/74 [==============================] - 2s 29ms/step - loss: 0.4994 - accuracy: 0.8012 - val_loss: 0.6710 - val_accuracy: 0.7500\n",
      "Epoch 26/32\n",
      "74/74 [==============================] - 2s 29ms/step - loss: 0.5159 - accuracy: 0.7863 - val_loss: 0.6828 - val_accuracy: 0.7437\n",
      "Epoch 27/32\n",
      "74/74 [==============================] - 2s 29ms/step - loss: 0.4681 - accuracy: 0.8137 - val_loss: 0.7011 - val_accuracy: 0.7312\n",
      "Epoch 28/32\n",
      "74/74 [==============================] - 2s 29ms/step - loss: 0.4480 - accuracy: 0.8286 - val_loss: 0.6989 - val_accuracy: 0.7125\n",
      "Epoch 29/32\n",
      "74/74 [==============================] - 2s 29ms/step - loss: 0.4695 - accuracy: 0.8161 - val_loss: 0.6973 - val_accuracy: 0.7563\n",
      "Epoch 30/32\n",
      "74/74 [==============================] - 2s 30ms/step - loss: 0.4711 - accuracy: 0.8273 - val_loss: 0.7473 - val_accuracy: 0.7125\n",
      "Epoch 31/32\n",
      "74/74 [==============================] - 2s 29ms/step - loss: 0.4584 - accuracy: 0.8224 - val_loss: 0.6826 - val_accuracy: 0.7375\n",
      "Epoch 32/32\n",
      "74/74 [==============================] - 2s 29ms/step - loss: 0.4298 - accuracy: 0.8435 - val_loss: 0.7293 - val_accuracy: 0.7312\n"
     ]
    }
   ],
   "source": [
    "epochs = 32\n",
    "history = model.fit(\n",
    "    x=train_generator,\n",
    "    epochs=epochs,\n",
    "    validation_data=validation_generator,\n",
    ")"
   ]
  },
  {
   "cell_type": "code",
   "execution_count": 37,
   "metadata": {
    "colab": {
     "base_uri": "https://localhost:8080/",
     "height": 534
    },
    "id": "rsjM9kxcLHG_",
    "outputId": "8218b3eb-936d-49ee-c504-3afd253ab71f"
   },
   "outputs": [
    {
     "name": "stdout",
     "output_type": "stream",
     "text": [
      "(500, 800, 3)\n"
     ]
    },
    {
     "data": {
      "image/png": "[encoded data removed]",
      "text/plain": [
       "<PIL.Image.Image image mode=RGB size=800x500 at 0x7F8A6CBD4760>"
      ]
     },
     "metadata": {},
     "output_type": "display_data"
    }
   ],
   "source": [
    "TO_PREDICT_PATH = \"/media/luca/1A46739246736D7F/Users/Luca/Semestrul 5/MIRPR/project-frontfinders/model_utils/fronts/to_predict/\" \n",
    "for root, _, files in os.walk(TO_PREDICT_PATH):\n",
    "    for image_path in files:\n",
    "      img = np.asarray(Image.open(os.path.join(root, image_path)).resize((800, 500)))\n",
    "      img = img.reshape((500, 800, 3))\n",
    "\n",
    "print(img.shape)\n",
    "display(Image.fromarray(img))\n"
   ]
  },
  {
   "cell_type": "code",
   "execution_count": 38,
   "metadata": {},
   "outputs": [],
   "source": [
    "model = keras.models.load_model(\"models/model_v1.h5\")"
   ]
  },
  {
   "cell_type": "code",
   "execution_count": 39,
   "metadata": {},
   "outputs": [
    {
     "name": "stdout",
     "output_type": "stream",
     "text": [
      "12/12 [==============================] - 1s 51ms/step\n"
     ]
    }
   ],
   "source": [
    "x_size, y_size = size\n",
    "crops = [((x, y), (x + x_size, y + y_size), img[x:x+x_size, y:y+y_size] / 255) for x in range(0, img.shape[0], x_size) for y in range(0,img.shape[1], y_size)]\n",
    "predictions = model.predict(np.array([crop[-1] for crop in crops if crop[-1].shape == (*size, 3)]))\n",
    "future_rectangles = [(start, end, prediciton, prediciton.argmax()) for (start, end, _), prediciton in zip(crops, predictions)]"
   ]
  },
  {
   "cell_type": "code",
   "execution_count": 40,
   "metadata": {},
   "outputs": [
    {
     "data": {
      "text/plain": [
       "{'cold': 0, 'occluded': 1, 'warm': 2, 'white': 3}"
      ]
     },
     "execution_count": 40,
     "metadata": {},
     "output_type": "execute_result"
    }
   ],
   "source": [
    "train_generator.class_indices\n"
   ]
  },
  {
   "cell_type": "code",
   "execution_count": 41,
   "metadata": {
    "colab": {
     "base_uri": "https://localhost:8080/",
     "height": 517
    },
    "id": "B3I8KHycViGO",
    "outputId": "ee4ccafb-a988-4bb2-8c20-36659f9070c5"
   },
   "outputs": [
    {
     "data": {
      "image/png": "[encoded data removed]",
      "text/plain": [
       "<PIL.Image.Image image mode=RGB size=800x500 at 0x7F8A6C1C96A0>"
      ]
     },
     "metadata": {},
     "output_type": "display_data"
    },
    {
     "name": "stdout",
     "output_type": "stream",
     "text": [
      "['0.0000092860', '0.0000023649', '0.0000117390', '0.9999765754']\n",
      "['0.0000092860', '0.0000023649', '0.0000117390', '0.9999765754']\n",
      "['0.0000092860', '0.0000023649', '0.0000117390', '0.9999765754']\n",
      "['0.0000092860', '0.0000023649', '0.0000117390', '0.9999765754']\n",
      "['0.0000092860', '0.0000023649', '0.0000117390', '0.9999765754']\n",
      "['0.0000092860', '0.0000023649', '0.0000117390', '0.9999765754']\n",
      "['0.0000092860', '0.0000023649', '0.0000117390', '0.9999765754']\n",
      "['0.0000092860', '0.0000023649', '0.0000117390', '0.9999765754']\n",
      "['0.0000092860', '0.0000023649', '0.0000117390', '0.9999765754']\n",
      "['0.0000092860', '0.0000023649', '0.0000117390', '0.9999765754']\n",
      "['0.0000092860', '0.0000023649', '0.0000117390', '0.9999765754']\n",
      "['0.0000092860', '0.0000023649', '0.0000117390', '0.9999765754']\n",
      "['0.0000092860', '0.0000023649', '0.0000117390', '0.9999765754']\n",
      "['0.0285701007', '0.2118998319', '0.7548307180', '0.0046993825']\n",
      "['0.0000092860', '0.0000023649', '0.0000117390', '0.9999765754']\n",
      "['0.0000092860', '0.0000023649', '0.0000117390', '0.9999765754']\n",
      "['0.0000092860', '0.0000023649', '0.0000117390', '0.9999765754']\n",
      "['0.0000092860', '0.0000023649', '0.0000117390', '0.9999765754']\n",
      "['0.6488249898', '0.0152224200', '0.3323169351', '0.0036356961']\n",
      "['0.0000092860', '0.0000023649', '0.0000117390', '0.9999765754']\n",
      "['0.0000092860', '0.0000023649', '0.0000117390', '0.9999765754']\n",
      "['0.0000092860', '0.0000023649', '0.0000117390', '0.9999765754']\n",
      "['0.0000092860', '0.0000023649', '0.0000117390', '0.9999765754']\n",
      "['0.0000092860', '0.0000023649', '0.0000117390', '0.9999765754']\n",
      "['0.0000092860', '0.0000023649', '0.0000117390', '0.9999765754']\n",
      "['0.0000092860', '0.0000023649', '0.0000117390', '0.9999765754']\n",
      "['0.0000092860', '0.0000023649', '0.0000117390', '0.9999765754']\n",
      "['0.0000092860', '0.0000023649', '0.0000117390', '0.9999765754']\n",
      "['0.6782153249', '0.0094373841', '0.3069900572', '0.0053572357']\n",
      "['0.0178583674', '0.0015437790', '0.0361131988', '0.9444847107']\n",
      "['0.0000092860', '0.0000023649', '0.0000117390', '0.9999765754']\n",
      "['0.0000092860', '0.0000023649', '0.0000117390', '0.9999765754']\n",
      "['0.0000092860', '0.0000023649', '0.0000117390', '0.9999765754']\n",
      "['0.0000092860', '0.0000023649', '0.0000117390', '0.9999765754']\n",
      "['0.0000092860', '0.0000023649', '0.0000117390', '0.9999765754']\n",
      "['0.0000092860', '0.0000023649', '0.0000117390', '0.9999765754']\n",
      "['0.0000092860', '0.0000023649', '0.0000117390', '0.9999765754']\n",
      "['0.0000092860', '0.0000023649', '0.0000117390', '0.9999765754']\n",
      "['0.0602780655', '0.0034632529', '0.0070322384', '0.9292262793']\n",
      "['0.0000092860', '0.0000023649', '0.0000117390', '0.9999765754']\n",
      "['0.0000092860', '0.0000023649', '0.0000117390', '0.9999765754']\n",
      "['0.0000092860', '0.0000023649', '0.0000117390', '0.9999765754']\n",
      "['0.0000092860', '0.0000023649', '0.0000117390', '0.9999765754']\n",
      "['0.0269982629', '0.0007425268', '0.0048397267', '0.9674193859']\n",
      "['0.0000092860', '0.0000023649', '0.0000117390', '0.9999765754']\n",
      "['0.0000092860', '0.0000023649', '0.0000117390', '0.9999765754']\n",
      "['0.0000092860', '0.0000023649', '0.0000117390', '0.9999765754']\n",
      "['0.0010544913', '0.0001966726', '0.0018122091', '0.9969366789']\n",
      "['0.0000092860', '0.0000023649', '0.0000117390', '0.9999765754']\n",
      "['0.0000092860', '0.0000023649', '0.0000117390', '0.9999765754']\n",
      "['0.0000092860', '0.0000023649', '0.0000117390', '0.9999765754']\n",
      "['0.0000092860', '0.0000023649', '0.0000117390', '0.9999765754']\n",
      "['0.0000092860', '0.0000023649', '0.0000117390', '0.9999765754']\n",
      "['0.0021623150', '0.0003076146', '0.0008810604', '0.9966489673']\n",
      "['0.6521667838', '0.0958143175', '0.2268059254', '0.0252130702']\n",
      "['0.0000092860', '0.0000023649', '0.0000117390', '0.9999765754']\n",
      "['0.0000092860', '0.0000023649', '0.0000117390', '0.9999765754']\n",
      "['0.0000092860', '0.0000023649', '0.0000117390', '0.9999765754']\n",
      "['0.0000092860', '0.0000023649', '0.0000117390', '0.9999765754']\n",
      "['0.0000092860', '0.0000023649', '0.0000117390', '0.9999765754']\n",
      "['0.0000092860', '0.0000023649', '0.0000117390', '0.9999765754']\n",
      "['0.0000092860', '0.0000023649', '0.0000117390', '0.9999765754']\n",
      "['0.0000092860', '0.0000023649', '0.0000117390', '0.9999765754']\n",
      "['0.0000092860', '0.0000023649', '0.0000117390', '0.9999765754']\n",
      "['0.0000092860', '0.0000023649', '0.0000117390', '0.9999765754']\n",
      "['0.0000092860', '0.0000023649', '0.0000117390', '0.9999765754']\n",
      "['0.0000092860', '0.0000023649', '0.0000117390', '0.9999765754']\n",
      "['0.0000092860', '0.0000023649', '0.0000117390', '0.9999765754']\n",
      "['0.0000092860', '0.0000023649', '0.0000117390', '0.9999765754']\n",
      "['0.0000092860', '0.0000023649', '0.0000117390', '0.9999765754']\n",
      "['0.0000092860', '0.0000023649', '0.0000117390', '0.9999765754']\n",
      "['0.3454513550', '0.0770838484', '0.5443382859', '0.0331265181']\n",
      "['0.6410571337', '0.3389979303', '0.0179508794', '0.0019941370']\n",
      "['0.0957516655', '0.0030757559', '0.0165194571', '0.8846530914']\n",
      "['0.0000092860', '0.0000023649', '0.0000117390', '0.9999765754']\n",
      "['0.0000092860', '0.0000023649', '0.0000117390', '0.9999765754']\n",
      "['0.0000092860', '0.0000023649', '0.0000117390', '0.9999765754']\n",
      "['0.0000092860', '0.0000023649', '0.0000117390', '0.9999765754']\n",
      "['0.0000092860', '0.0000023649', '0.0000117390', '0.9999765754']\n",
      "['0.9001314640', '0.0064575481', '0.0564619415', '0.0369489491']\n",
      "['0.7922763228', '0.0551500060', '0.1374789625', '0.0150947794']\n",
      "['0.0000092860', '0.0000023649', '0.0000117390', '0.9999765754']\n",
      "['0.0000092860', '0.0000023649', '0.0000117390', '0.9999765754']\n",
      "['0.0000092860', '0.0000023649', '0.0000117390', '0.9999765754']\n",
      "['0.0000092860', '0.0000023649', '0.0000117390', '0.9999765754']\n",
      "['0.0000092860', '0.0000023649', '0.0000117390', '0.9999765754']\n",
      "['0.0000092860', '0.0000023649', '0.0000117390', '0.9999765754']\n",
      "['0.4266692996', '0.0336325653', '0.5380453467', '0.0016527844']\n",
      "['0.0000092860', '0.0000023649', '0.0000117390', '0.9999765754']\n",
      "['0.0000092860', '0.0000023649', '0.0000117390', '0.9999765754']\n",
      "['0.0000092860', '0.0000023649', '0.0000117390', '0.9999765754']\n",
      "['0.0000092860', '0.0000023649', '0.0000117390', '0.9999765754']\n",
      "['0.0062946468', '0.0108373426', '0.9810252786', '0.0018427434']\n",
      "['0.1419368386', '0.0065942160', '0.0882178470', '0.7632511258']\n",
      "['0.0000092860', '0.0000023649', '0.0000117390', '0.9999765754']\n",
      "['0.0000092860', '0.0000023649', '0.0000117390', '0.9999765754']\n",
      "['0.0000092860', '0.0000023649', '0.0000117390', '0.9999765754']\n",
      "['0.0000092860', '0.0000023649', '0.0000117390', '0.9999765754']\n",
      "['0.0000092860', '0.0000023649', '0.0000117390', '0.9999765754']\n",
      "['0.0000092860', '0.0000023649', '0.0000117390', '0.9999765754']\n",
      "['0.0000092860', '0.0000023649', '0.0000117390', '0.9999765754']\n",
      "['0.0000092860', '0.0000023649', '0.0000117390', '0.9999765754']\n",
      "['0.0000092860', '0.0000023649', '0.0000117390', '0.9999765754']\n",
      "['0.0000092860', '0.0000023649', '0.0000117390', '0.9999765754']\n",
      "['0.9779748321', '0.0180948954', '0.0036233258', '0.0003068708']\n",
      "['0.0000092860', '0.0000023649', '0.0000117390', '0.9999765754']\n",
      "['0.0000092860', '0.0000023649', '0.0000117390', '0.9999765754']\n",
      "['0.0000092860', '0.0000023649', '0.0000117390', '0.9999765754']\n",
      "['0.0000092860', '0.0000023649', '0.0000117390', '0.9999765754']\n",
      "['0.0000092860', '0.0000023649', '0.0000117390', '0.9999765754']\n",
      "['0.0000092860', '0.0000023649', '0.0000117390', '0.9999765754']\n",
      "['0.0000092860', '0.0000023649', '0.0000117390', '0.9999765754']\n",
      "['0.0154571449', '0.0164913069', '0.9674785733', '0.0005729989']\n",
      "['0.0000092860', '0.0000023649', '0.0000117390', '0.9999765754']\n",
      "['0.0000092860', '0.0000023649', '0.0000117390', '0.9999765754']\n",
      "['0.0000092860', '0.0000023649', '0.0000117390', '0.9999765754']\n",
      "['0.0787071064', '0.0017023504', '0.0264650770', '0.8931255341']\n",
      "['0.0099292016', '0.0102461074', '0.9788548350', '0.0009698512']\n",
      "['0.0000092860', '0.0000023649', '0.0000117390', '0.9999765754']\n",
      "['0.0000092860', '0.0000023649', '0.0000117390', '0.9999765754']\n",
      "['0.0000092860', '0.0000023649', '0.0000117390', '0.9999765754']\n",
      "['0.0000092860', '0.0000023649', '0.0000117390', '0.9999765754']\n",
      "['0.0000092860', '0.0000023649', '0.0000117390', '0.9999765754']\n",
      "['0.0000092860', '0.0000023649', '0.0000117390', '0.9999765754']\n",
      "['0.0000092860', '0.0000023649', '0.0000117390', '0.9999765754']\n",
      "['0.0000092860', '0.0000023649', '0.0000117390', '0.9999765754']\n",
      "['0.0000092860', '0.0000023649', '0.0000117390', '0.9999765754']\n",
      "['0.0000092860', '0.0000023649', '0.0000117390', '0.9999765754']\n",
      "['0.0000092860', '0.0000023649', '0.0000117390', '0.9999765754']\n",
      "['0.0591834858', '0.0009494910', '0.0309290532', '0.9089380503']\n",
      "['0.0000092860', '0.0000023649', '0.0000117390', '0.9999765754']\n",
      "['0.0000092860', '0.0000023649', '0.0000117390', '0.9999765754']\n",
      "['0.0000092860', '0.0000023649', '0.0000117390', '0.9999765754']\n",
      "['0.0000092860', '0.0000023649', '0.0000117390', '0.9999765754']\n",
      "['0.0000092860', '0.0000023649', '0.0000117390', '0.9999765754']\n",
      "['0.0000092860', '0.0000023649', '0.0000117390', '0.9999765754']\n",
      "['0.0000092860', '0.0000023649', '0.0000117390', '0.9999765754']\n",
      "['0.6158608198', '0.0579073876', '0.3135184944', '0.0127132693']\n",
      "['0.0452146754', '0.2317089140', '0.7170901895', '0.0059861895']\n",
      "['0.0000092860', '0.0000023649', '0.0000117390', '0.9999765754']\n",
      "['0.0000092860', '0.0000023649', '0.0000117390', '0.9999765754']\n",
      "['0.5959066749', '0.0219705086', '0.3757649660', '0.0063578617']\n",
      "['0.7710608244', '0.0901573375', '0.1258410662', '0.0129409088']\n",
      "['0.1467181146', '0.0827144459', '0.5316523314', '0.2389151156']\n",
      "['0.0000092860', '0.0000023649', '0.0000117390', '0.9999765754']\n",
      "['0.0000092860', '0.0000023649', '0.0000117390', '0.9999765754']\n",
      "['0.0000092860', '0.0000023649', '0.0000117390', '0.9999765754']\n",
      "['0.0000092860', '0.0000023649', '0.0000117390', '0.9999765754']\n",
      "['0.0000092860', '0.0000023649', '0.0000117390', '0.9999765754']\n",
      "['0.0000092860', '0.0000023649', '0.0000117390', '0.9999765754']\n",
      "['0.0000092860', '0.0000023649', '0.0000117390', '0.9999765754']\n",
      "['0.0000092860', '0.0000023649', '0.0000117390', '0.9999765754']\n",
      "['0.0000092860', '0.0000023649', '0.0000117390', '0.9999765754']\n",
      "['0.0000092860', '0.0000023649', '0.0000117390', '0.9999765754']\n",
      "['0.0000092860', '0.0000023649', '0.0000117390', '0.9999765754']\n",
      "['0.0000092860', '0.0000023649', '0.0000117390', '0.9999765754']\n",
      "['0.0000092860', '0.0000023649', '0.0000117390', '0.9999765754']\n",
      "['0.0000092860', '0.0000023649', '0.0000117390', '0.9999765754']\n",
      "['0.0000092860', '0.0000023649', '0.0000117390', '0.9999765754']\n",
      "['0.0000092860', '0.0000023649', '0.0000117390', '0.9999765754']\n",
      "['0.0000092860', '0.0000023649', '0.0000117390', '0.9999765754']\n",
      "['0.0000092860', '0.0000023649', '0.0000117390', '0.9999765754']\n",
      "['0.0000092860', '0.0000023649', '0.0000117390', '0.9999765754']\n",
      "['0.0537698455', '0.0752018541', '0.8706589937', '0.0003693341']\n",
      "['0.0000092860', '0.0000023649', '0.0000117390', '0.9999765754']\n",
      "['0.1311859488', '0.4963789284', '0.3690943122', '0.0033406159']\n",
      "['0.5689302087', '0.0059222151', '0.0279404633', '0.3972071111']\n",
      "['0.0227731783', '0.0041067349', '0.9649778605', '0.0081422022']\n",
      "['0.0000128407', '0.0000027494', '0.0000136243', '0.9999707341']\n",
      "['0.0000092860', '0.0000023649', '0.0000117390', '0.9999765754']\n",
      "['0.0000092860', '0.0000023649', '0.0000117390', '0.9999765754']\n",
      "['0.0000092860', '0.0000023649', '0.0000117390', '0.9999765754']\n",
      "['0.0000092860', '0.0000023649', '0.0000117390', '0.9999765754']\n",
      "['0.0000092860', '0.0000023649', '0.0000117390', '0.9999765754']\n",
      "['0.0000092860', '0.0000023649', '0.0000117390', '0.9999765754']\n",
      "['0.0000092860', '0.0000023649', '0.0000117390', '0.9999765754']\n",
      "['0.0000092860', '0.0000023649', '0.0000117390', '0.9999765754']\n",
      "['0.0000092860', '0.0000023649', '0.0000117390', '0.9999765754']\n",
      "['0.0000092860', '0.0000023649', '0.0000117390', '0.9999765754']\n",
      "['0.0000092860', '0.0000023649', '0.0000117390', '0.9999765754']\n",
      "['0.0000092860', '0.0000023649', '0.0000117390', '0.9999765754']\n",
      "['0.0000092860', '0.0000023649', '0.0000117390', '0.9999765754']\n",
      "['0.0000092860', '0.0000023649', '0.0000117390', '0.9999765754']\n",
      "['0.0000092860', '0.0000023649', '0.0000117390', '0.9999765754']\n",
      "['0.0000182318', '0.0000047516', '0.0000235925', '0.9999533296']\n",
      "['0.0172611382', '0.6502270699', '0.3283099830', '0.0042017503']\n",
      "['0.0050290390', '0.0181580875', '0.9762825966', '0.0005302520']\n",
      "['0.0092550926', '0.0349118598', '0.9509069324', '0.0049260235']\n",
      "['0.6199190617', '0.0143682044', '0.3623643219', '0.0033484153']\n",
      "['0.0000092860', '0.0000023649', '0.0000117390', '0.9999765754']\n",
      "['0.0694976076', '0.0008542427', '0.0069964342', '0.9226517081']\n",
      "['0.0380022377', '0.0007062239', '0.0082192365', '0.9530723095']\n",
      "['0.7719829082', '0.0042854985', '0.0587180629', '0.1650135070']\n",
      "['0.6233703494', '0.3479310274', '0.0285298713', '0.0001686083']\n",
      "['0.0000092860', '0.0000023649', '0.0000117390', '0.9999765754']\n",
      "['0.0000092860', '0.0000023649', '0.0000117390', '0.9999765754']\n",
      "['0.0000092860', '0.0000023649', '0.0000117390', '0.9999765754']\n",
      "['0.0000092860', '0.0000023649', '0.0000117390', '0.9999765754']\n",
      "['0.0000092860', '0.0000023649', '0.0000117390', '0.9999765754']\n",
      "['0.0000092860', '0.0000023649', '0.0000117390', '0.9999765754']\n",
      "['0.0000092860', '0.0000023649', '0.0000117390', '0.9999765754']\n",
      "['0.0000092860', '0.0000023649', '0.0000117390', '0.9999765754']\n",
      "['0.0000092860', '0.0000023649', '0.0000117390', '0.9999765754']\n",
      "['0.0000092860', '0.0000023649', '0.0000117390', '0.9999765754']\n",
      "['0.0000092860', '0.0000023649', '0.0000117390', '0.9999765754']\n",
      "['0.0000092860', '0.0000023649', '0.0000117390', '0.9999765754']\n",
      "['0.0000092860', '0.0000023649', '0.0000117390', '0.9999765754']\n",
      "['0.0000092860', '0.0000023649', '0.0000117390', '0.9999765754']\n",
      "['0.0000092860', '0.0000023649', '0.0000117390', '0.9999765754']\n",
      "['0.0000092860', '0.0000023649', '0.0000117390', '0.9999765754']\n",
      "['0.0546306781', '0.0113820592', '0.9329345226', '0.0010528023']\n",
      "['0.0000092860', '0.0000023649', '0.0000117390', '0.9999765754']\n",
      "['0.0001395481', '0.0000248346', '0.0001096834', '0.9997259378']\n",
      "['0.0000092860', '0.0000023649', '0.0000117390', '0.9999765754']\n",
      "['0.0000092860', '0.0000023649', '0.0000117390', '0.9999765754']\n",
      "['0.0000092860', '0.0000023649', '0.0000117390', '0.9999765754']\n",
      "['0.5701620579', '0.2586965561', '0.1693336070', '0.0018077537']\n",
      "['0.0133031774', '0.0008055437', '0.0091738403', '0.9767174721']\n",
      "['0.0000092860', '0.0000023649', '0.0000117390', '0.9999765754']\n",
      "['0.0000092860', '0.0000023649', '0.0000117390', '0.9999765754']\n",
      "['0.0000092860', '0.0000023649', '0.0000117390', '0.9999765754']\n",
      "['0.0000092860', '0.0000023649', '0.0000117390', '0.9999765754']\n",
      "['0.0000092860', '0.0000023649', '0.0000117390', '0.9999765754']\n",
      "['0.0000092860', '0.0000023649', '0.0000117390', '0.9999765754']\n",
      "['0.0000092860', '0.0000023649', '0.0000117390', '0.9999765754']\n",
      "['0.0000092860', '0.0000023649', '0.0000117390', '0.9999765754']\n",
      "['0.0000092860', '0.0000023649', '0.0000117390', '0.9999765754']\n",
      "['0.0000092860', '0.0000023649', '0.0000117390', '0.9999765754']\n",
      "['0.0000092860', '0.0000023649', '0.0000117390', '0.9999765754']\n",
      "['0.0000092860', '0.0000023649', '0.0000117390', '0.9999765754']\n",
      "['0.0000092860', '0.0000023649', '0.0000117390', '0.9999765754']\n",
      "['0.0000092860', '0.0000023649', '0.0000117390', '0.9999765754']\n",
      "['0.0000092860', '0.0000023649', '0.0000117390', '0.9999765754']\n",
      "['0.0000092860', '0.0000023649', '0.0000117390', '0.9999765754']\n",
      "['0.0841050595', '0.0008664645', '0.0143696042', '0.9006589055']\n",
      "['0.9046291113', '0.0085760457', '0.0815111101', '0.0052836589']\n",
      "['0.0000092860', '0.0000023649', '0.0000117390', '0.9999765754']\n",
      "['0.0000092860', '0.0000023649', '0.0000117390', '0.9999765754']\n",
      "['0.0000092860', '0.0000023649', '0.0000117390', '0.9999765754']\n",
      "['0.0000092860', '0.0000023649', '0.0000117390', '0.9999765754']\n",
      "['0.0404714495', '0.0009047882', '0.0286025647', '0.9300211668']\n",
      "['0.1372681409', '0.0033412471', '0.0245796908', '0.8348109126']\n",
      "['0.0000092860', '0.0000023649', '0.0000117390', '0.9999765754']\n",
      "['0.0000092860', '0.0000023649', '0.0000117390', '0.9999765754']\n",
      "['0.0000092860', '0.0000023649', '0.0000117390', '0.9999765754']\n",
      "['0.0000092860', '0.0000023649', '0.0000117390', '0.9999765754']\n",
      "['0.0000092860', '0.0000023649', '0.0000117390', '0.9999765754']\n",
      "['0.0000092860', '0.0000023649', '0.0000117390', '0.9999765754']\n",
      "['0.0000092860', '0.0000023649', '0.0000117390', '0.9999765754']\n",
      "['0.0000092860', '0.0000023649', '0.0000117390', '0.9999765754']\n",
      "['0.0000092860', '0.0000023649', '0.0000117390', '0.9999765754']\n",
      "['0.0000092860', '0.0000023649', '0.0000117390', '0.9999765754']\n",
      "['0.0000092860', '0.0000023649', '0.0000117390', '0.9999765754']\n",
      "['0.0000092860', '0.0000023649', '0.0000117390', '0.9999765754']\n",
      "['0.0000092860', '0.0000023649', '0.0000117390', '0.9999765754']\n",
      "['0.0000092860', '0.0000023649', '0.0000117390', '0.9999765754']\n",
      "['0.0000092860', '0.0000023649', '0.0000117390', '0.9999765754']\n",
      "['0.0000092860', '0.0000023649', '0.0000117390', '0.9999765754']\n",
      "['0.0000092860', '0.0000023649', '0.0000117390', '0.9999765754']\n",
      "['0.9943223000', '0.0034393054', '0.0021308667', '0.0001074753']\n",
      "['0.0000092860', '0.0000023649', '0.0000117390', '0.9999765754']\n",
      "['0.0000092860', '0.0000023649', '0.0000117390', '0.9999765754']\n",
      "['0.0000092860', '0.0000023649', '0.0000117390', '0.9999765754']\n",
      "['0.0000092860', '0.0000023649', '0.0000117390', '0.9999765754']\n",
      "['0.0000092860', '0.0000023649', '0.0000117390', '0.9999765754']\n",
      "['0.1541624367', '0.0041334787', '0.8126791716', '0.0290249269']\n",
      "['0.0000092860', '0.0000023649', '0.0000117390', '0.9999765754']\n",
      "['0.0000092860', '0.0000023649', '0.0000117390', '0.9999765754']\n",
      "['0.0000092860', '0.0000023649', '0.0000117390', '0.9999765754']\n",
      "['0.0000092860', '0.0000023649', '0.0000117390', '0.9999765754']\n",
      "['0.0000092860', '0.0000023649', '0.0000117390', '0.9999765754']\n",
      "['0.0000092860', '0.0000023649', '0.0000117390', '0.9999765754']\n",
      "['0.0000092860', '0.0000023649', '0.0000117390', '0.9999765754']\n",
      "['0.0000092860', '0.0000023649', '0.0000117390', '0.9999765754']\n",
      "['0.0000092860', '0.0000023649', '0.0000117390', '0.9999765754']\n",
      "['0.0000092860', '0.0000023649', '0.0000117390', '0.9999765754']\n",
      "['0.5037449598', '0.0109476149', '0.1155430153', '0.3697643280']\n",
      "['0.0000092860', '0.0000023649', '0.0000117390', '0.9999765754']\n",
      "['0.0000092860', '0.0000023649', '0.0000117390', '0.9999765754']\n",
      "['0.9218251109', '0.0255725998', '0.0512964688', '0.0013057569']\n",
      "['0.0084217088', '0.2077707946', '0.7780076861', '0.0057997811']\n",
      "['0.0840900987', '0.0142100099', '0.5879279971', '0.3137720227']\n",
      "['0.0000092860', '0.0000023649', '0.0000117390', '0.9999765754']\n",
      "['0.0000092860', '0.0000023649', '0.0000117390', '0.9999765754']\n",
      "['0.0000092860', '0.0000023649', '0.0000117390', '0.9999765754']\n",
      "['0.0000092860', '0.0000023649', '0.0000117390', '0.9999765754']\n",
      "['0.0000092860', '0.0000023649', '0.0000117390', '0.9999765754']\n",
      "['0.0000092860', '0.0000023649', '0.0000117390', '0.9999765754']\n",
      "['0.0000092860', '0.0000023649', '0.0000117390', '0.9999765754']\n",
      "['0.0000092860', '0.0000023649', '0.0000117390', '0.9999765754']\n",
      "['0.0000092860', '0.0000023649', '0.0000117390', '0.9999765754']\n",
      "['0.0001813301', '0.0000268075', '0.0002473297', '0.9995445609']\n",
      "['0.0000092860', '0.0000023649', '0.0000117390', '0.9999765754']\n",
      "['0.0000092860', '0.0000023649', '0.0000117390', '0.9999765754']\n",
      "['0.0000092860', '0.0000023649', '0.0000117390', '0.9999765754']\n",
      "['0.0000092860', '0.0000023649', '0.0000117390', '0.9999765754']\n",
      "['0.0000092860', '0.0000023649', '0.0000117390', '0.9999765754']\n",
      "['0.0000092860', '0.0000023649', '0.0000117390', '0.9999765754']\n",
      "['0.0000092860', '0.0000023649', '0.0000117390', '0.9999765754']\n",
      "['0.0000092860', '0.0000023649', '0.0000117390', '0.9999765754']\n",
      "['0.0000092860', '0.0000023649', '0.0000117390', '0.9999765754']\n",
      "['0.1372964531', '0.5392706394', '0.1349699050', '0.1884630322']\n",
      "['0.3242799640', '0.2010838687', '0.4372331798', '0.0374029949']\n",
      "['0.1033898145', '0.0611293539', '0.6967270970', '0.1387537122']\n",
      "['0.2645794749', '0.0322811268', '0.6828984618', '0.0202408396']\n",
      "['0.0000092860', '0.0000023649', '0.0000117390', '0.9999765754']\n",
      "['0.0000092860', '0.0000023649', '0.0000117390', '0.9999765754']\n",
      "['0.0000092860', '0.0000023649', '0.0000117390', '0.9999765754']\n",
      "['0.0000092860', '0.0000023649', '0.0000117390', '0.9999765754']\n",
      "['0.0097730951', '0.0018869257', '0.0260339454', '0.9623059630']\n",
      "['0.0000092860', '0.0000023649', '0.0000117390', '0.9999765754']\n",
      "['0.0000092860', '0.0000023649', '0.0000117390', '0.9999765754']\n",
      "['0.0000092860', '0.0000023649', '0.0000117390', '0.9999765754']\n",
      "['0.0000092860', '0.0000023649', '0.0000117390', '0.9999765754']\n",
      "['0.0000092860', '0.0000023649', '0.0000117390', '0.9999765754']\n",
      "['0.0000092860', '0.0000023649', '0.0000117390', '0.9999765754']\n",
      "['0.0770803615', '0.0351981111', '0.8856056333', '0.0021158934']\n",
      "['0.0000092860', '0.0000023649', '0.0000117390', '0.9999765754']\n",
      "['0.0000092860', '0.0000023649', '0.0000117390', '0.9999765754']\n",
      "['0.0000092860', '0.0000023649', '0.0000117390', '0.9999765754']\n",
      "['0.0000092860', '0.0000023649', '0.0000117390', '0.9999765754']\n",
      "['0.0000092860', '0.0000023649', '0.0000117390', '0.9999765754']\n",
      "['0.0000092860', '0.0000023649', '0.0000117390', '0.9999765754']\n",
      "['0.0000092860', '0.0000023649', '0.0000117390', '0.9999765754']\n",
      "['0.0000092860', '0.0000023649', '0.0000117390', '0.9999765754']\n",
      "['0.0000437157', '0.0000060724', '0.0000564783', '0.9998936057']\n",
      "['0.0934282839', '0.0698304400', '0.8026872873', '0.0340540409']\n",
      "['0.0167234764', '0.8889883757', '0.0924731568', '0.0018149331']\n",
      "['0.0170357134', '0.0007890291', '0.0034250936', '0.9787501097']\n",
      "['0.0403200090', '0.8299449682', '0.1070918739', '0.0226431042']\n",
      "['0.0013332126', '0.5940057635', '0.4035537541', '0.0011073537']\n",
      "['0.1027102694', '0.0067018103', '0.2424016595', '0.6481861472']\n",
      "['0.0841321573', '0.5449763536', '0.3699509799', '0.0009404787']\n",
      "['0.1290616095', '0.0230536032', '0.8338377476', '0.0140469652']\n",
      "['0.9283295274', '0.0701075792', '0.0013448457', '0.0002181346']\n",
      "['0.0130777750', '0.0805503428', '0.9035320282', '0.0028398540']\n",
      "['0.0000092860', '0.0000023649', '0.0000117390', '0.9999765754']\n",
      "['0.0000092860', '0.0000023649', '0.0000117390', '0.9999765754']\n",
      "['0.0000092860', '0.0000023649', '0.0000117390', '0.9999765754']\n",
      "['0.0000092860', '0.0000023649', '0.0000117390', '0.9999765754']\n",
      "['0.0000092860', '0.0000023649', '0.0000117390', '0.9999765754']\n",
      "['0.1434783190', '0.0873712897', '0.7669909000', '0.0021595776']\n",
      "['0.0000092860', '0.0000023649', '0.0000117390', '0.9999765754']\n",
      "['0.0000092860', '0.0000023649', '0.0000117390', '0.9999765754']\n",
      "['0.0000092860', '0.0000023649', '0.0000117390', '0.9999765754']\n",
      "['0.0000092860', '0.0000023649', '0.0000117390', '0.9999765754']\n",
      "['0.0000092860', '0.0000023649', '0.0000117390', '0.9999765754']\n",
      "['0.0000092860', '0.0000023649', '0.0000117390', '0.9999765754']\n",
      "['0.0000092860', '0.0000023649', '0.0000117390', '0.9999765754']\n",
      "['0.0000092860', '0.0000023649', '0.0000117390', '0.9999765754']\n",
      "['0.0141745163', '0.1037947461', '0.8659392595', '0.0160913561']\n",
      "['0.0018909236', '0.0001964313', '0.0010570654', '0.9968554974']\n",
      "['0.0000092860', '0.0000023649', '0.0000117390', '0.9999765754']\n",
      "['0.0000092860', '0.0000023649', '0.0000117390', '0.9999765754']\n",
      "['0.0000404537', '0.0000087351', '0.0000383339', '0.9999124408']\n",
      "['0.0637706295', '0.0072113704', '0.8938197494', '0.0351982228']\n",
      "['0.8902397752', '0.1083639190', '0.0013833123', '0.0000130535']\n",
      "['0.0706734583', '0.3859653175', '0.5320497751', '0.0113114221']\n",
      "['0.0000092860', '0.0000023649', '0.0000117390', '0.9999765754']\n",
      "['0.7168362737', '0.0115687698', '0.0547119454', '0.2168829739']\n",
      "['0.9192847610', '0.0663863197', '0.0140151391', '0.0003137051']\n",
      "['0.0936034024', '0.0124993175', '0.8886415958', '0.0052555706']\n",
      "['0.0000092860', '0.0000023649', '0.0000117390', '0.9999765754']\n",
      "['0.0000092860', '0.0000023649', '0.0000117390', '0.9999765754']\n",
      "['0.0000092860', '0.0000023649', '0.0000117390', '0.9999765754']\n",
      "['0.2723480463', '0.0836063623', '0.6390150785', '0.0050303666']\n",
      "['0.9615884423', '0.0273086317', '0.0106508546', '0.0004520759']\n",
      "['0.0000092860', '0.0000023649', '0.0000117390', '0.9999765754']\n",
      "['0.0000092860', '0.0000023649', '0.0000117390', '0.9999766350']\n",
      "['0.0000092860', '0.0000023649', '0.0000117390', '0.9999766350']\n",
      "['0.0000092860', '0.0000023649', '0.0000117390', '0.9999766350']\n",
      "['0.0000092860', '0.0000023649', '0.0000117390', '0.9999766350']\n",
      "['0.0000092860', '0.0000023649', '0.0000117390', '0.9999766350']\n",
      "['0.0000092860', '0.0000023649', '0.0000117390', '0.9999766350']\n",
      "['0.0000092860', '0.0000023649', '0.0000117390', '0.9999766350']\n"
     ]
    },
    {
     "data": {
      "image/png": "[encoded data removed]",
      "text/plain": [
       "<PIL.Image.Image image mode=RGB size=800x500 at 0x7F8A6C1C96A0>"
      ]
     },
     "metadata": {},
     "output_type": "display_data"
    }
   ],
   "source": [
    "TO_PREDICT_PATH = \"/media/luca/1A46739246736D7F/Users/Luca/Semestrul 5/MIRPR/project-frontfinders/model_utils/fronts/to_predict/\" \n",
    "for root, _, files in os.walk(TO_PREDICT_PATH):\n",
    "    for image_path in files:\n",
    "      output_image = np.asarray(Image.open(os.path.join(root, image_path)).resize((800, 500)))\n",
    "      output_image = output_image.reshape((500, 800, 3))\n",
    "\n",
    "\n",
    "output_image = Image.fromarray(output_image)\n",
    "display(output_image)\n",
    "\n",
    "draw = D.Draw(output_image)\n",
    "rect = {\"warm\": [],\n",
    "        \"cold\": [],\n",
    "        \"white\": []}\n",
    "o = {\"warm\": \"red\",\n",
    "     \"cold\": \"blue\",\n",
    "     \"white\": \"purple\",\n",
    "     \"occluded\": \"green\"\n",
    "     }\n",
    "for (x, y), (x1, y1), pred, tp in future_rectangles:\n",
    "  print(list(map(lambda x: '{0:.10f}'.format(x), pred)))\n",
    "  # print(pred[1] - pred[0])\n",
    "  if tp != 3:\n",
    "    draw.rectangle([(y, x), (y1, x1)], outline=o[types[tp]], width=2)\n",
    "    draw.text((y, x), '.', fill=\"green\", align=\"center\")\n",
    "  # draw.text((x + 10, y + 10), str(pred[1]), fill=\"green\", align=\"center\")\n",
    "display(output_image)\n",
    "\n",
    "# for key in rect.keys():\n",
    "#   l = []\n",
    "#   for (x, y) in rect[key]:\n",
    "#     for (z, w) in rect[key]:\n",
    "#       if z <= x + 50:\n",
    "#         l.append([(x, y), (z + 50 - x, y + 50)])"
   ]
  },
  {
   "cell_type": "code",
   "execution_count": 36,
   "metadata": {
    "id": "9e65rvpno9WG"
   },
   "outputs": [],
   "source": [
    "model.save('models/model_v1.h5')"
   ]
  },
  {
   "cell_type": "code",
   "execution_count": null,
   "metadata": {},
   "outputs": [],
   "source": [
    "model.load"
   ]
  }
 ],
 "metadata": {
  "colab": {
   "provenance": []
  },
  "kernelspec": {
   "display_name": "Python 3",
   "language": "python",
   "name": "python3"
  },
  "language_info": {
   "codemirror_mode": {
    "name": "ipython",
    "version": 3
   },
   "file_extension": ".py",
   "mimetype": "text/x-python",
   "name": "python",
   "nbconvert_exporter": "python",
   "pygments_lexer": "ipython3",
   "version": "3.8.10"
  },
  "vscode": {
   "interpreter": {
    "hash": "916dbcbb3f70747c44a77c7bcd40155683ae19c65e1c03b4aa3499c5328201f1"
   }
  }
 },
 "nbformat": 4,
 "nbformat_minor": 0
}
